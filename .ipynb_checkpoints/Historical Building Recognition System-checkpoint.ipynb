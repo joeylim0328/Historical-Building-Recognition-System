{
 "cells": [
  {
   "cell_type": "markdown",
   "metadata": {},
   "source": [
    "# Importing images"
   ]
  },
  {
   "cell_type": "code",
   "execution_count": 1,
   "metadata": {},
   "outputs": [
    {
     "name": "stdout",
     "output_type": "stream",
     "text": [
      "[[[[224 225 229]\n",
      "   [225 226 230]\n",
      "   [225 226 230]\n",
      "   ...\n",
      "   [224 225 229]\n",
      "   [224 225 229]\n",
      "   [223 224 228]]\n",
      "\n",
      "  [[224 225 229]\n",
      "   [224 225 229]\n",
      "   [225 226 230]\n",
      "   ...\n",
      "   [223 224 228]\n",
      "   [223 224 228]\n",
      "   [223 224 228]]\n",
      "\n",
      "  [[223 224 228]\n",
      "   [223 224 228]\n",
      "   [224 225 229]\n",
      "   ...\n",
      "   [222 223 227]\n",
      "   [222 223 227]\n",
      "   [222 223 227]]\n",
      "\n",
      "  ...\n",
      "\n",
      "  [[ 60  46  37]\n",
      "   [ 62  48  39]\n",
      "   [ 61  46  39]\n",
      "   ...\n",
      "   [ 61  41  32]\n",
      "   [ 51  31  22]\n",
      "   [ 67  47  38]]\n",
      "\n",
      "  [[ 69  55  46]\n",
      "   [ 71  57  48]\n",
      "   [ 66  51  44]\n",
      "   ...\n",
      "   [ 60  40  31]\n",
      "   [ 48  28  19]\n",
      "   [ 61  41  32]]\n",
      "\n",
      "  [[ 72  58  49]\n",
      "   [ 79  65  56]\n",
      "   [ 70  55  48]\n",
      "   ...\n",
      "   [ 44  24  15]\n",
      "   [ 48  28  19]\n",
      "   [ 62  42  33]]]\n",
      "\n",
      "\n",
      " [[[206 219 228]\n",
      "   [206 219 228]\n",
      "   [206 219 228]\n",
      "   ...\n",
      "   [212 222 232]\n",
      "   [214 224 234]\n",
      "   [215 225 235]]\n",
      "\n",
      "  [[206 219 228]\n",
      "   [206 219 228]\n",
      "   [206 219 228]\n",
      "   ...\n",
      "   [213 223 233]\n",
      "   [214 224 234]\n",
      "   [215 225 235]]\n",
      "\n",
      "  [[205 218 227]\n",
      "   [205 218 227]\n",
      "   [205 218 227]\n",
      "   ...\n",
      "   [213 223 233]\n",
      "   [214 224 234]\n",
      "   [215 225 235]]\n",
      "\n",
      "  ...\n",
      "\n",
      "  [[ 32  23  24]\n",
      "   [ 62  53  54]\n",
      "   [104  96  94]\n",
      "   ...\n",
      "   [113 100  94]\n",
      "   [120 107 101]\n",
      "   [116 103  97]]\n",
      "\n",
      "  [[ 70  61  62]\n",
      "   [ 64  55  56]\n",
      "   [ 73  65  63]\n",
      "   ...\n",
      "   [ 63  52  48]\n",
      "   [ 74  63  59]\n",
      "   [ 70  59  55]]\n",
      "\n",
      "  [[ 36  27  28]\n",
      "   [100  91  92]\n",
      "   [183 175 173]\n",
      "   ...\n",
      "   [ 83  72  68]\n",
      "   [ 88  77  73]\n",
      "   [ 75  64  60]]]\n",
      "\n",
      "\n",
      " [[[189 203 212]\n",
      "   [189 203 212]\n",
      "   [189 203 212]\n",
      "   ...\n",
      "   [203 217 228]\n",
      "   [203 217 228]\n",
      "   [203 217 228]]\n",
      "\n",
      "  [[190 204 213]\n",
      "   [190 204 213]\n",
      "   [190 204 213]\n",
      "   ...\n",
      "   [203 217 228]\n",
      "   [203 217 228]\n",
      "   [203 217 228]]\n",
      "\n",
      "  [[191 205 214]\n",
      "   [191 205 214]\n",
      "   [191 205 214]\n",
      "   ...\n",
      "   [203 217 228]\n",
      "   [203 217 228]\n",
      "   [203 217 228]]\n",
      "\n",
      "  ...\n",
      "\n",
      "  [[ 67  63  60]\n",
      "   [ 71  67  64]\n",
      "   [ 79  75  72]\n",
      "   ...\n",
      "   [ 57  48  43]\n",
      "   [ 50  39  35]\n",
      "   [ 53  42  38]]\n",
      "\n",
      "  [[ 58  54  51]\n",
      "   [ 61  57  54]\n",
      "   [ 61  57  54]\n",
      "   ...\n",
      "   [ 67  56  52]\n",
      "   [ 48  37  33]\n",
      "   [ 45  34  30]]\n",
      "\n",
      "  [[ 61  57  54]\n",
      "   [ 57  53  50]\n",
      "   [ 40  36  33]\n",
      "   ...\n",
      "   [ 74  63  59]\n",
      "   [ 48  37  33]\n",
      "   [ 42  31  27]]]\n",
      "\n",
      "\n",
      " ...\n",
      "\n",
      "\n",
      " [[[205 217 231]\n",
      "   [206 218 232]\n",
      "   [204 216 230]\n",
      "   ...\n",
      "   [200 212 226]\n",
      "   [200 212 226]\n",
      "   [200 212 226]]\n",
      "\n",
      "  [[208 220 234]\n",
      "   [208 220 234]\n",
      "   [207 219 233]\n",
      "   ...\n",
      "   [199 211 225]\n",
      "   [199 211 225]\n",
      "   [199 211 225]]\n",
      "\n",
      "  [[210 222 236]\n",
      "   [210 222 236]\n",
      "   [209 221 235]\n",
      "   ...\n",
      "   [197 209 223]\n",
      "   [197 209 223]\n",
      "   [197 209 223]]\n",
      "\n",
      "  ...\n",
      "\n",
      "  [[157 157 157]\n",
      "   [158 158 158]\n",
      "   [158 158 158]\n",
      "   ...\n",
      "   [ 34  34  34]\n",
      "   [ 35  35  35]\n",
      "   [ 41  41  41]]\n",
      "\n",
      "  [[158 158 158]\n",
      "   [158 158 158]\n",
      "   [158 158 158]\n",
      "   ...\n",
      "   [ 20  20  20]\n",
      "   [ 21  21  21]\n",
      "   [ 24  24  24]]\n",
      "\n",
      "  [[158 158 158]\n",
      "   [158 158 158]\n",
      "   [159 159 159]\n",
      "   ...\n",
      "   [ 28  28  28]\n",
      "   [ 28  28  28]\n",
      "   [ 28  28  28]]]\n",
      "\n",
      "\n",
      " [[[183 197 208]\n",
      "   [184 198 209]\n",
      "   [184 198 209]\n",
      "   ...\n",
      "   [179 193 204]\n",
      "   [180 194 205]\n",
      "   [180 194 205]]\n",
      "\n",
      "  [[183 197 208]\n",
      "   [184 198 209]\n",
      "   [184 198 209]\n",
      "   ...\n",
      "   [179 193 204]\n",
      "   [180 194 205]\n",
      "   [181 195 206]]\n",
      "\n",
      "  [[185 199 210]\n",
      "   [185 199 210]\n",
      "   [185 199 210]\n",
      "   ...\n",
      "   [181 195 206]\n",
      "   [181 195 206]\n",
      "   [182 196 207]]\n",
      "\n",
      "  ...\n",
      "\n",
      "  [[ 51  51  51]\n",
      "   [ 73  73  73]\n",
      "   [ 67  67  67]\n",
      "   ...\n",
      "   [ 18  18  16]\n",
      "   [ 17  17  15]\n",
      "   [ 16  16  14]]\n",
      "\n",
      "  [[ 47  47  47]\n",
      "   [ 65  65  65]\n",
      "   [ 66  66  66]\n",
      "   ...\n",
      "   [ 18  18  16]\n",
      "   [ 17  17  15]\n",
      "   [ 16  16  14]]\n",
      "\n",
      "  [[ 48  48  48]\n",
      "   [ 60  60  60]\n",
      "   [ 66  66  66]\n",
      "   ...\n",
      "   [ 18  18  16]\n",
      "   [ 17  17  15]\n",
      "   [ 17  17  15]]]\n",
      "\n",
      "\n",
      " [[[184 196 208]\n",
      "   [184 196 208]\n",
      "   [185 197 209]\n",
      "   ...\n",
      "   [176 190 201]\n",
      "   [177 191 202]\n",
      "   [178 192 203]]\n",
      "\n",
      "  [[183 195 207]\n",
      "   [183 195 207]\n",
      "   [184 196 208]\n",
      "   ...\n",
      "   [176 190 201]\n",
      "   [177 191 202]\n",
      "   [178 192 203]]\n",
      "\n",
      "  [[181 193 205]\n",
      "   [182 194 206]\n",
      "   [183 195 207]\n",
      "   ...\n",
      "   [176 190 201]\n",
      "   [177 191 202]\n",
      "   [178 192 203]]\n",
      "\n",
      "  ...\n",
      "\n",
      "  [[ 56  56  56]\n",
      "   [ 43  43  43]\n",
      "   [ 47  47  47]\n",
      "   ...\n",
      "   [ 23  23  21]\n",
      "   [ 23  23  21]\n",
      "   [ 23  23  21]]\n",
      "\n",
      "  [[ 57  57  57]\n",
      "   [ 56  56  56]\n",
      "   [ 53  53  53]\n",
      "   ...\n",
      "   [ 79  79  77]\n",
      "   [ 78  78  76]\n",
      "   [ 77  77  75]]\n",
      "\n",
      "  [[ 64  64  64]\n",
      "   [ 71  71  71]\n",
      "   [ 56  56  56]\n",
      "   ...\n",
      "   [ 17  17  15]\n",
      "   [ 17  17  15]\n",
      "   [ 16  16  14]]]]\n"
     ]
    }
   ],
   "source": [
    "import glob\n",
    "from PIL import Image\n",
    "import numpy as np\n",
    "\n",
    "# Import images from training set\n",
    "train_images=[]\n",
    "\n",
    "for f in glob.iglob(\"C:/Users/joey_/Desktop/PR/train_data/*\"):\n",
    "    train_images.append(np.asarray(Image.open(f)))\n",
    "\n",
    "train_images=np.array(train_images)\n",
    "print(train_images)"
   ]
  },
  {
   "cell_type": "code",
   "execution_count": 2,
   "metadata": {},
   "outputs": [
    {
     "name": "stdout",
     "output_type": "stream",
     "text": [
      "(114, 100, 100, 3)\n"
     ]
    }
   ],
   "source": [
    "print(train_images.shape)"
   ]
  },
  {
   "cell_type": "code",
   "execution_count": 3,
   "metadata": {},
   "outputs": [],
   "source": [
    "# Import images from testing set\n",
    "test_images=[]\n",
    "\n",
    "for f in glob.iglob(\"C:/Users/joey_/Desktop/PR/test_data/*\"):\n",
    "    test_images.append(np.asarray(Image.open(f)))\n",
    "\n",
    "test_images=np.array(test_images)"
   ]
  },
  {
   "cell_type": "code",
   "execution_count": 4,
   "metadata": {},
   "outputs": [
    {
     "name": "stdout",
     "output_type": "stream",
     "text": [
      "(48, 100, 100, 3)\n"
     ]
    }
   ],
   "source": [
    "print(test_images.shape)"
   ]
  },
  {
   "cell_type": "markdown",
   "metadata": {},
   "source": [
    "# Saving images into txt file"
   ]
  },
  {
   "cell_type": "code",
   "execution_count": 5,
   "metadata": {},
   "outputs": [],
   "source": [
    "np.savetxt(\"test.txt\",test_images.reshape(48,30000))\n",
    "np.savetxt(\"train.txt\",train_images.reshape(114,30000))"
   ]
  },
  {
   "cell_type": "markdown",
   "metadata": {},
   "source": [
    "# Load training and testing data from txt"
   ]
  },
  {
   "cell_type": "code",
   "execution_count": 28,
   "metadata": {},
   "outputs": [],
   "source": [
    "import numpy as np \n",
    "import math\n",
    "import matplotlib.pyplot as plt\n",
    "import matplotlib.image as mpimg\n",
    "from PIL import Image"
   ]
  },
  {
   "cell_type": "code",
   "execution_count": 7,
   "metadata": {},
   "outputs": [],
   "source": [
    "train_folder=\"C:/Users/joey_/Desktop/PR/train.txt\"\n",
    "test_folder=\"C:/Users/joey_/Desktop/PR/test.txt\""
   ]
  },
  {
   "cell_type": "code",
   "execution_count": 34,
   "metadata": {},
   "outputs": [
    {
     "ename": "TypeError",
     "evalue": "only size-1 arrays can be converted to Python scalars",
     "output_type": "error",
     "traceback": [
      "\u001b[1;31m---------------------------------------------------------------------------\u001b[0m",
      "\u001b[1;31mTypeError\u001b[0m                                 Traceback (most recent call last)",
      "\u001b[1;32m<ipython-input-34-5e930581566e>\u001b[0m in \u001b[0;36m<module>\u001b[1;34m\u001b[0m\n\u001b[0;32m      1\u001b[0m \u001b[0mX_train\u001b[0m\u001b[1;33m=\u001b[0m\u001b[0mnp\u001b[0m\u001b[1;33m.\u001b[0m\u001b[0mloadtxt\u001b[0m\u001b[1;33m(\u001b[0m\u001b[0mtrain_folder\u001b[0m\u001b[1;33m)\u001b[0m\u001b[1;33m\u001b[0m\u001b[0m\n\u001b[0;32m      2\u001b[0m \u001b[0mX_test\u001b[0m\u001b[1;33m=\u001b[0m\u001b[0mnp\u001b[0m\u001b[1;33m.\u001b[0m\u001b[0mloadtxt\u001b[0m\u001b[1;33m(\u001b[0m\u001b[0mtest_folder\u001b[0m\u001b[1;33m)\u001b[0m\u001b[1;33m\u001b[0m\u001b[0m\n\u001b[1;32m----> 3\u001b[1;33m \u001b[0mX_train\u001b[0m\u001b[1;33m=\u001b[0m\u001b[0mfloat\u001b[0m\u001b[1;33m(\u001b[0m\u001b[0mX_train\u001b[0m\u001b[1;33m)\u001b[0m\u001b[1;33m\u001b[0m\u001b[0m\n\u001b[0m",
      "\u001b[1;31mTypeError\u001b[0m: only size-1 arrays can be converted to Python scalars"
     ]
    }
   ],
   "source": [
    "X_train=np.loadtxt(train_folder)\n",
    "X_test=np.loadtxt(test_folder)"
   ]
  },
  {
   "cell_type": "code",
   "execution_count": 22,
   "metadata": {},
   "outputs": [
    {
     "name": "stdout",
     "output_type": "stream",
     "text": [
      "Shape of training set: (114, 30000)\n",
      "Shape of testing set: (48, 30000)\n"
     ]
    }
   ],
   "source": [
    "print(\"Shape of training set: {}\".format(X_train.shape))\n",
    "print(\"Shape of testing set: {}\".format(X_test.shape))"
   ]
  },
  {
   "cell_type": "code",
   "execution_count": 39,
   "metadata": {},
   "outputs": [
    {
     "data": {
      "text/plain": [
       "62.0"
      ]
     },
     "execution_count": 39,
     "metadata": {},
     "output_type": "execute_result"
    }
   ],
   "source": [
    "X_train=X_train.reshape(114,100,100,3)"
   ]
  },
  {
   "cell_type": "code",
   "execution_count": 42,
   "metadata": {},
   "outputs": [],
   "source": [
    "def image_grid(D,H,W,cols=5,scale=1):\n",
    "    \"\"\" display a grid of images\n",
    "        H,W: Height and width of the images\n",
    "        cols: number of columns = number of images in each row\n",
    "        scale: 1 to fill screen\n",
    "    \"\"\"\n",
    "    n = np.shape(D)[0]\n",
    "    rows = int(math.ceil((n+0.0)/cols))\n",
    "    fig = plt.figure(1,figsize=[scale*20.0/H*W,scale*20.0/cols*rows],dpi=300)\n",
    "    for i in range(n):\n",
    "        plt.subplot(rows,cols,i+1)\n",
    "        fig=plt.imshow(np.reshape(D[i,:],[H,W,D[0,0,0,:]]),)\n",
    "        plt.axis('off')"
   ]
  },
  {
   "cell_type": "code",
   "execution_count": 43,
   "metadata": {},
   "outputs": [
    {
     "ename": "TypeError",
     "evalue": "only integer scalar arrays can be converted to a scalar index",
     "output_type": "error",
     "traceback": [
      "\u001b[1;31m---------------------------------------------------------------------------\u001b[0m",
      "\u001b[1;31mTypeError\u001b[0m                                 Traceback (most recent call last)",
      "\u001b[1;32mc:\\users\\joey_\\appdata\\local\\programs\\python\\python36\\lib\\site-packages\\numpy\\core\\fromnumeric.py\u001b[0m in \u001b[0;36m_wrapfunc\u001b[1;34m(obj, method, *args, **kwds)\u001b[0m\n\u001b[0;32m     60\u001b[0m     \u001b[1;32mtry\u001b[0m\u001b[1;33m:\u001b[0m\u001b[1;33m\u001b[0m\u001b[0m\n\u001b[1;32m---> 61\u001b[1;33m         \u001b[1;32mreturn\u001b[0m \u001b[0mbound\u001b[0m\u001b[1;33m(\u001b[0m\u001b[1;33m*\u001b[0m\u001b[0margs\u001b[0m\u001b[1;33m,\u001b[0m \u001b[1;33m**\u001b[0m\u001b[0mkwds\u001b[0m\u001b[1;33m)\u001b[0m\u001b[1;33m\u001b[0m\u001b[0m\n\u001b[0m\u001b[0;32m     62\u001b[0m     \u001b[1;32mexcept\u001b[0m \u001b[0mTypeError\u001b[0m\u001b[1;33m:\u001b[0m\u001b[1;33m\u001b[0m\u001b[0m\n",
      "\u001b[1;31mTypeError\u001b[0m: only integer scalar arrays can be converted to a scalar index",
      "\nDuring handling of the above exception, another exception occurred:\n",
      "\u001b[1;31mTypeError\u001b[0m                                 Traceback (most recent call last)",
      "\u001b[1;32m<ipython-input-43-a07811abfd75>\u001b[0m in \u001b[0;36m<module>\u001b[1;34m\u001b[0m\n\u001b[0;32m      3\u001b[0m \u001b[1;33m\u001b[0m\u001b[0m\n\u001b[0;32m      4\u001b[0m \u001b[1;31m#Show training images\u001b[0m\u001b[1;33m\u001b[0m\u001b[1;33m\u001b[0m\u001b[0m\n\u001b[1;32m----> 5\u001b[1;33m \u001b[0mimage_grid\u001b[0m\u001b[1;33m(\u001b[0m\u001b[0mX_train\u001b[0m\u001b[1;33m,\u001b[0m\u001b[0mH\u001b[0m\u001b[1;33m,\u001b[0m\u001b[0mW\u001b[0m\u001b[1;33m)\u001b[0m\u001b[1;33m\u001b[0m\u001b[0m\n\u001b[0m\u001b[0;32m      6\u001b[0m \u001b[0mplt\u001b[0m\u001b[1;33m.\u001b[0m\u001b[0mshow\u001b[0m\u001b[1;33m(\u001b[0m\u001b[1;33m)\u001b[0m\u001b[1;33m\u001b[0m\u001b[0m\n",
      "\u001b[1;32m<ipython-input-42-cfbf6de1ee20>\u001b[0m in \u001b[0;36mimage_grid\u001b[1;34m(D, H, W, cols, scale)\u001b[0m\n\u001b[0;32m     10\u001b[0m     \u001b[1;32mfor\u001b[0m \u001b[0mi\u001b[0m \u001b[1;32min\u001b[0m \u001b[0mrange\u001b[0m\u001b[1;33m(\u001b[0m\u001b[0mn\u001b[0m\u001b[1;33m)\u001b[0m\u001b[1;33m:\u001b[0m\u001b[1;33m\u001b[0m\u001b[0m\n\u001b[0;32m     11\u001b[0m         \u001b[0mplt\u001b[0m\u001b[1;33m.\u001b[0m\u001b[0msubplot\u001b[0m\u001b[1;33m(\u001b[0m\u001b[0mrows\u001b[0m\u001b[1;33m,\u001b[0m\u001b[0mcols\u001b[0m\u001b[1;33m,\u001b[0m\u001b[0mi\u001b[0m\u001b[1;33m+\u001b[0m\u001b[1;36m1\u001b[0m\u001b[1;33m)\u001b[0m\u001b[1;33m\u001b[0m\u001b[0m\n\u001b[1;32m---> 12\u001b[1;33m         \u001b[0mfig\u001b[0m\u001b[1;33m=\u001b[0m\u001b[0mplt\u001b[0m\u001b[1;33m.\u001b[0m\u001b[0mimshow\u001b[0m\u001b[1;33m(\u001b[0m\u001b[0mnp\u001b[0m\u001b[1;33m.\u001b[0m\u001b[0mreshape\u001b[0m\u001b[1;33m(\u001b[0m\u001b[0mD\u001b[0m\u001b[1;33m[\u001b[0m\u001b[0mi\u001b[0m\u001b[1;33m,\u001b[0m\u001b[1;33m:\u001b[0m\u001b[1;33m]\u001b[0m\u001b[1;33m,\u001b[0m\u001b[1;33m[\u001b[0m\u001b[0mH\u001b[0m\u001b[1;33m,\u001b[0m\u001b[0mW\u001b[0m\u001b[1;33m,\u001b[0m\u001b[0mD\u001b[0m\u001b[1;33m[\u001b[0m\u001b[1;36m0\u001b[0m\u001b[1;33m,\u001b[0m\u001b[1;36m0\u001b[0m\u001b[1;33m,\u001b[0m\u001b[1;36m0\u001b[0m\u001b[1;33m,\u001b[0m\u001b[1;33m:\u001b[0m\u001b[1;33m]\u001b[0m\u001b[1;33m]\u001b[0m\u001b[1;33m)\u001b[0m\u001b[1;33m,\u001b[0m\u001b[1;33m)\u001b[0m\u001b[1;33m\u001b[0m\u001b[0m\n\u001b[0m\u001b[0;32m     13\u001b[0m         \u001b[0mplt\u001b[0m\u001b[1;33m.\u001b[0m\u001b[0maxis\u001b[0m\u001b[1;33m(\u001b[0m\u001b[1;34m'off'\u001b[0m\u001b[1;33m)\u001b[0m\u001b[1;33m\u001b[0m\u001b[0m\n",
      "\u001b[1;32m<__array_function__ internals>\u001b[0m in \u001b[0;36mreshape\u001b[1;34m(*args, **kwargs)\u001b[0m\n",
      "\u001b[1;32mc:\\users\\joey_\\appdata\\local\\programs\\python\\python36\\lib\\site-packages\\numpy\\core\\fromnumeric.py\u001b[0m in \u001b[0;36mreshape\u001b[1;34m(a, newshape, order)\u001b[0m\n\u001b[0;32m    299\u001b[0m            [5, 6]])\n\u001b[0;32m    300\u001b[0m     \"\"\"\n\u001b[1;32m--> 301\u001b[1;33m     \u001b[1;32mreturn\u001b[0m \u001b[0m_wrapfunc\u001b[0m\u001b[1;33m(\u001b[0m\u001b[0ma\u001b[0m\u001b[1;33m,\u001b[0m \u001b[1;34m'reshape'\u001b[0m\u001b[1;33m,\u001b[0m \u001b[0mnewshape\u001b[0m\u001b[1;33m,\u001b[0m \u001b[0morder\u001b[0m\u001b[1;33m=\u001b[0m\u001b[0morder\u001b[0m\u001b[1;33m)\u001b[0m\u001b[1;33m\u001b[0m\u001b[0m\n\u001b[0m\u001b[0;32m    302\u001b[0m \u001b[1;33m\u001b[0m\u001b[0m\n\u001b[0;32m    303\u001b[0m \u001b[1;33m\u001b[0m\u001b[0m\n",
      "\u001b[1;32mc:\\users\\joey_\\appdata\\local\\programs\\python\\python36\\lib\\site-packages\\numpy\\core\\fromnumeric.py\u001b[0m in \u001b[0;36m_wrapfunc\u001b[1;34m(obj, method, *args, **kwds)\u001b[0m\n\u001b[0;32m     68\u001b[0m         \u001b[1;31m# Call _wrapit from within the except clause to ensure a potential\u001b[0m\u001b[1;33m\u001b[0m\u001b[1;33m\u001b[0m\u001b[0m\n\u001b[0;32m     69\u001b[0m         \u001b[1;31m# exception has a traceback chain.\u001b[0m\u001b[1;33m\u001b[0m\u001b[1;33m\u001b[0m\u001b[0m\n\u001b[1;32m---> 70\u001b[1;33m         \u001b[1;32mreturn\u001b[0m \u001b[0m_wrapit\u001b[0m\u001b[1;33m(\u001b[0m\u001b[0mobj\u001b[0m\u001b[1;33m,\u001b[0m \u001b[0mmethod\u001b[0m\u001b[1;33m,\u001b[0m \u001b[1;33m*\u001b[0m\u001b[0margs\u001b[0m\u001b[1;33m,\u001b[0m \u001b[1;33m**\u001b[0m\u001b[0mkwds\u001b[0m\u001b[1;33m)\u001b[0m\u001b[1;33m\u001b[0m\u001b[0m\n\u001b[0m\u001b[0;32m     71\u001b[0m \u001b[1;33m\u001b[0m\u001b[0m\n\u001b[0;32m     72\u001b[0m \u001b[1;33m\u001b[0m\u001b[0m\n",
      "\u001b[1;32mc:\\users\\joey_\\appdata\\local\\programs\\python\\python36\\lib\\site-packages\\numpy\\core\\fromnumeric.py\u001b[0m in \u001b[0;36m_wrapit\u001b[1;34m(obj, method, *args, **kwds)\u001b[0m\n\u001b[0;32m     45\u001b[0m     \u001b[1;32mexcept\u001b[0m \u001b[0mAttributeError\u001b[0m\u001b[1;33m:\u001b[0m\u001b[1;33m\u001b[0m\u001b[0m\n\u001b[0;32m     46\u001b[0m         \u001b[0mwrap\u001b[0m \u001b[1;33m=\u001b[0m \u001b[1;32mNone\u001b[0m\u001b[1;33m\u001b[0m\u001b[0m\n\u001b[1;32m---> 47\u001b[1;33m     \u001b[0mresult\u001b[0m \u001b[1;33m=\u001b[0m \u001b[0mgetattr\u001b[0m\u001b[1;33m(\u001b[0m\u001b[0masarray\u001b[0m\u001b[1;33m(\u001b[0m\u001b[0mobj\u001b[0m\u001b[1;33m)\u001b[0m\u001b[1;33m,\u001b[0m \u001b[0mmethod\u001b[0m\u001b[1;33m)\u001b[0m\u001b[1;33m(\u001b[0m\u001b[1;33m*\u001b[0m\u001b[0margs\u001b[0m\u001b[1;33m,\u001b[0m \u001b[1;33m**\u001b[0m\u001b[0mkwds\u001b[0m\u001b[1;33m)\u001b[0m\u001b[1;33m\u001b[0m\u001b[0m\n\u001b[0m\u001b[0;32m     48\u001b[0m     \u001b[1;32mif\u001b[0m \u001b[0mwrap\u001b[0m\u001b[1;33m:\u001b[0m\u001b[1;33m\u001b[0m\u001b[0m\n\u001b[0;32m     49\u001b[0m         \u001b[1;32mif\u001b[0m \u001b[1;32mnot\u001b[0m \u001b[0misinstance\u001b[0m\u001b[1;33m(\u001b[0m\u001b[0mresult\u001b[0m\u001b[1;33m,\u001b[0m \u001b[0mmu\u001b[0m\u001b[1;33m.\u001b[0m\u001b[0mndarray\u001b[0m\u001b[1;33m)\u001b[0m\u001b[1;33m:\u001b[0m\u001b[1;33m\u001b[0m\u001b[0m\n",
      "\u001b[1;31mTypeError\u001b[0m: only integer scalar arrays can be converted to a scalar index"
     ]
    },
    {
     "data": {
      "image/png": "[encoded data removed]",
      "text/plain": [
       "<Figure size 6000x27600 with 1 Axes>"
      ]
     },
     "metadata": {
      "needs_background": "light"
     },
     "output_type": "display_data"
    }
   ],
   "source": [
    "H=100\n",
    "W=100\n",
    "\n",
    "#Show training images\n",
    "image_grid(X_train,H,W)\n",
    "plt.show()"
   ]
  },
  {
   "cell_type": "code",
   "execution_count": null,
   "metadata": {},
   "outputs": [],
   "source": []
  }
 ],
 "metadata": {
  "kernelspec": {
   "display_name": "Python 3",
   "language": "python",
   "name": "python3"
  },
  "language_info": {
   "codemirror_mode": {
    "name": "ipython",
    "version": 3
   },
   "file_extension": ".py",
   "mimetype": "text/x-python",
   "name": "python",
   "nbconvert_exporter": "python",
   "pygments_lexer": "ipython3",
   "version": "3.6.4"
  }
 },
 "nbformat": 4,
 "nbformat_minor": 2
}
